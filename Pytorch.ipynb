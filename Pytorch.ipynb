{
 "cells": [
  {
   "cell_type": "code",
   "execution_count": 1,
   "metadata": {},
   "outputs": [],
   "source": [
    "import torch \n",
    "\n",
    "import torch.nn as nn \n",
    "\n",
    "import torch.nn.functional as F"
   ]
  },
  {
   "cell_type": "markdown",
   "metadata": {},
   "source": [
    "#### Create a Model Class that inherits nn.Module"
   ]
  },
  {
   "cell_type": "code",
   "execution_count": 2,
   "metadata": {},
   "outputs": [],
   "source": [
    "class Model(nn.Module):\n",
    "    \n",
    "    #Input layer (4 features of the flower) \n",
    "    # --> Hidden Layer 1 (numbers of neuron)\n",
    "    # --> H2 (numbers of neuron)\n",
    "    # --> Output (3 classes of iris flowers)\n",
    "\n",
    "    def __init__ (self, in_feature=4, h1=8, h2=9, h3=8, out_feature=3):\n",
    "        super().__init__() #instanciate our nn.Module\n",
    "        self.fc1 = nn.Linear(in_feature, h1) #\n",
    "        self.fc2 = nn.Linear(h1, h2)\n",
    "        self.fc3 = nn.Linear(h2, h3)\n",
    "        self.out = nn.Linear(h3,out_feature)\n",
    "\n",
    "    ### Move layers\n",
    "    def forward (self, x):\n",
    "        x = F.relu(self.fc1(x)) #rectified linear unit - capture non-linear relationship between data\n",
    "        x = F.relu(self.fc2(x))\n",
    "        x = F.relu(self.fc3(x))\n",
    "        x = self.out(x)\n",
    "\n",
    "        return x"
   ]
  },
  {
   "cell_type": "markdown",
   "metadata": {},
   "source": [
    "#### Pick a manual random seed and create an instance "
   ]
  },
  {
   "cell_type": "code",
   "execution_count": 3,
   "metadata": {},
   "outputs": [],
   "source": [
    "torch.manual_seed(41)\n",
    "\n",
    "model = Model()"
   ]
  },
  {
   "cell_type": "code",
   "execution_count": 4,
   "metadata": {},
   "outputs": [],
   "source": [
    "import matplotlib.pyplot as plt \n",
    "import pandas as pd\n",
    "import requests\n",
    "\n",
    "%matplotlib inline"
   ]
  },
  {
   "cell_type": "code",
   "execution_count": 5,
   "metadata": {},
   "outputs": [
    {
     "name": "stdout",
     "output_type": "stream",
     "text": [
      "setosa\n",
      "versicolor\n",
      "virginica\n"
     ]
    },
    {
     "data": {
      "text/html": [
       "<div>\n",
       "<style scoped>\n",
       "    .dataframe tbody tr th:only-of-type {\n",
       "        vertical-align: middle;\n",
       "    }\n",
       "\n",
       "    .dataframe tbody tr th {\n",
       "        vertical-align: top;\n",
       "    }\n",
       "\n",
       "    .dataframe thead th {\n",
       "        text-align: right;\n",
       "    }\n",
       "</style>\n",
       "<table border=\"1\" class=\"dataframe\">\n",
       "  <thead>\n",
       "    <tr style=\"text-align: right;\">\n",
       "      <th></th>\n",
       "      <th>sepal_length</th>\n",
       "      <th>sepal_width</th>\n",
       "      <th>petal_length</th>\n",
       "      <th>petal_width</th>\n",
       "      <th>variety</th>\n",
       "    </tr>\n",
       "  </thead>\n",
       "  <tbody>\n",
       "    <tr>\n",
       "      <th>1</th>\n",
       "      <td>5.1</td>\n",
       "      <td>3.5</td>\n",
       "      <td>1.4</td>\n",
       "      <td>0.2</td>\n",
       "      <td>setosa</td>\n",
       "    </tr>\n",
       "    <tr>\n",
       "      <th>2</th>\n",
       "      <td>4.9</td>\n",
       "      <td>3.0</td>\n",
       "      <td>1.4</td>\n",
       "      <td>0.2</td>\n",
       "      <td>setosa</td>\n",
       "    </tr>\n",
       "  </tbody>\n",
       "</table>\n",
       "</div>"
      ],
      "text/plain": [
       "   sepal_length  sepal_width  petal_length  petal_width variety\n",
       "1           5.1          3.5           1.4          0.2  setosa\n",
       "2           4.9          3.0           1.4          0.2  setosa"
      ]
     },
     "execution_count": 5,
     "metadata": {},
     "output_type": "execute_result"
    }
   ],
   "source": [
    "url = \"Pytorch/iris.csv\"\n",
    "\n",
    "my_df = pd.read_csv(url)\n",
    "my_df.index = my_df.index +1 #Start index by 1 \n",
    "\n",
    "my_df.rename(columns={\"species\":\"variety\"}, inplace=True)\n",
    "\n",
    "for unique_name in my_df['variety'].unique():\n",
    "    print (unique_name)\n",
    "    \n",
    "my_df.head(2)"
   ]
  },
  {
   "cell_type": "code",
   "execution_count": 6,
   "metadata": {},
   "outputs": [
    {
     "name": "stderr",
     "output_type": "stream",
     "text": [
      "/var/folders/0g/n12bjh5j5rz4c440njxzw_sw0000gn/T/ipykernel_67541/916170938.py:3: FutureWarning: Downcasting behavior in `replace` is deprecated and will be removed in a future version. To retain the old behavior, explicitly call `result.infer_objects(copy=False)`. To opt-in to the future behavior, set `pd.set_option('future.no_silent_downcasting', True)`\n",
      "  my_df['variety'] = my_df['variety'].replace('virginica', 2.0)\n"
     ]
    }
   ],
   "source": [
    "my_df['variety'] = my_df['variety'].replace('setosa', 0.0)\n",
    "my_df['variety'] = my_df['variety'].replace('versicolor', 1.0)\n",
    "my_df['variety'] = my_df['variety'].replace('virginica', 2.0)\n"
   ]
  },
  {
   "cell_type": "markdown",
   "metadata": {},
   "source": [
    "#### Train Test"
   ]
  },
  {
   "cell_type": "code",
   "execution_count": 7,
   "metadata": {},
   "outputs": [],
   "source": [
    "X = my_df.drop ('variety', axis = 1)\n",
    "\n",
    "y = my_df['variety']"
   ]
  },
  {
   "cell_type": "code",
   "execution_count": 8,
   "metadata": {},
   "outputs": [],
   "source": [
    "# Convert dataset to numpy arrays \n",
    "\n",
    "X = X.values\n",
    "\n",
    "y = y.values\n",
    "\n"
   ]
  },
  {
   "cell_type": "code",
   "execution_count": 9,
   "metadata": {},
   "outputs": [
    {
     "data": {
      "text/plain": [
       "array([[5.1, 3.5, 1.4, 0.2],\n",
       "       [4.9, 3. , 1.4, 0.2],\n",
       "       [4.7, 3.2, 1.3, 0.2],\n",
       "       [4.6, 3.1, 1.5, 0.2],\n",
       "       [5. , 3.6, 1.4, 0.2]])"
      ]
     },
     "execution_count": 9,
     "metadata": {},
     "output_type": "execute_result"
    }
   ],
   "source": [
    "X[:5] #floattensor"
   ]
  },
  {
   "cell_type": "code",
   "execution_count": 10,
   "metadata": {},
   "outputs": [
    {
     "data": {
      "text/plain": [
       "array([0., 0., 0., 0., 0., 0., 0., 0., 0., 0., 0., 0., 0., 0., 0., 0., 0.,\n",
       "       0., 0., 0., 0., 0., 0., 0., 0., 0., 0., 0., 0., 0., 0., 0., 0., 0.,\n",
       "       0., 0., 0., 0., 0., 0., 0., 0., 0., 0., 0., 0., 0., 0., 0., 0., 1.,\n",
       "       1., 1., 1., 1., 1., 1., 1., 1., 1., 1., 1., 1., 1., 1., 1., 1., 1.,\n",
       "       1., 1., 1., 1., 1., 1., 1., 1., 1., 1., 1., 1., 1., 1., 1., 1., 1.,\n",
       "       1., 1., 1., 1., 1., 1., 1., 1., 1., 1., 1., 1., 1., 1., 1., 2., 2.,\n",
       "       2., 2., 2., 2., 2., 2., 2., 2., 2., 2., 2., 2., 2., 2., 2., 2., 2.,\n",
       "       2., 2., 2., 2., 2., 2., 2., 2., 2., 2., 2., 2., 2., 2., 2., 2., 2.,\n",
       "       2., 2., 2., 2., 2., 2., 2., 2., 2., 2., 2., 2., 2., 2.])"
      ]
     },
     "execution_count": 10,
     "metadata": {},
     "output_type": "execute_result"
    }
   ],
   "source": [
    "y #longtensor"
   ]
  },
  {
   "cell_type": "code",
   "execution_count": 11,
   "metadata": {},
   "outputs": [],
   "source": [
    "from sklearn.model_selection import train_test_split"
   ]
  },
  {
   "cell_type": "code",
   "execution_count": 12,
   "metadata": {},
   "outputs": [],
   "source": [
    "#Train Test Split \n",
    "\n",
    "X_train, X_test, y_train, y_test = train_test_split(X, y, test_size=0.2,random_state=41)\n",
    "\n",
    "# Convert X features to float tensors\n",
    "\n",
    "X_train = torch.FloatTensor(X_train) #floattensor is a float number\n",
    "\n",
    "X_test = torch.FloatTensor(X_test)\n",
    "\n",
    "# Convert Y features to Tensor\n",
    "\n",
    "y_train = torch.LongTensor(y_train) #longtensor: 64-bit integer like [1,2,3,4]\n",
    "\n",
    "y_test = torch.LongTensor(y_test)\n",
    "\n",
    "# Set the criterion of model to measure the error \n",
    "\n",
    "criterion = nn.CrossEntropyLoss()\n",
    "\n",
    "# Choose Adam Optimizer, \n",
    "# lr = learning rate (if error doesn't go down after a bunch of interations (epochs), lower learning rate) \n",
    "\n",
    "optimizer = torch.optim.Adam(model.parameters(), lr = 0.01)\n"
   ]
  },
  {
   "cell_type": "code",
   "execution_count": 13,
   "metadata": {},
   "outputs": [
    {
     "data": {
      "text/plain": [
       "<bound method Module.parameters of Model(\n",
       "  (fc1): Linear(in_features=4, out_features=8, bias=True)\n",
       "  (fc2): Linear(in_features=8, out_features=9, bias=True)\n",
       "  (fc3): Linear(in_features=9, out_features=8, bias=True)\n",
       "  (out): Linear(in_features=8, out_features=3, bias=True)\n",
       ")>"
      ]
     },
     "execution_count": 13,
     "metadata": {},
     "output_type": "execute_result"
    }
   ],
   "source": [
    "model.parameters"
   ]
  },
  {
   "cell_type": "code",
   "execution_count": 14,
   "metadata": {},
   "outputs": [
    {
     "name": "stdout",
     "output_type": "stream",
     "text": [
      "Epoch: 0 and loss: 1.1371482610702515\n",
      "Epoch: 10 and loss: 0.9740701913833618\n",
      "Epoch: 20 and loss: 0.7154096364974976\n",
      "Epoch: 30 and loss: 0.5236234664916992\n",
      "Epoch: 40 and loss: 0.344639390707016\n",
      "Epoch: 50 and loss: 0.1814497858285904\n",
      "Epoch: 60 and loss: 0.06312624365091324\n",
      "Epoch: 70 and loss: 0.03332425281405449\n",
      "Epoch: 80 and loss: 0.02475006692111492\n",
      "Epoch: 90 and loss: 0.020756680518388748\n",
      "Epoch: 100 and loss: 0.018963107839226723\n",
      "Epoch: 110 and loss: 0.016694482415914536\n",
      "Epoch: 120 and loss: 0.015596026554703712\n",
      "Epoch: 130 and loss: 0.014367718249559402\n",
      "Epoch: 140 and loss: 0.014265858568251133\n"
     ]
    }
   ],
   "source": [
    "#Train our models \n",
    "\n",
    "epochs = 150\n",
    "\n",
    "losses = []\n",
    "\n",
    "for i in range (epochs):\n",
    "    #1: Go forward and get a prediction \n",
    "\n",
    "    y_pred = model.forward(X_train) #get predicted results \n",
    "\n",
    "    #2: Measure the loss/error, gonna be high at first \n",
    "\n",
    "    loss = criterion (y_pred, y_train) #predicted value vs the y_train value \n",
    "    \n",
    "    #3: Keep Track of our losses \n",
    "\n",
    "    losses.append(loss.detach().numpy())\n",
    "\n",
    "    #4: Print every 10 epoch \n",
    "    if i % 10 == 0:\n",
    "        print(f'Epoch: {i} and loss: {loss}')\n",
    "\n",
    "    #5: Do some back propagration: take the error rate of forward probagration, \n",
    "    ## and feed it back through networks to fine tune the weights to learn better \n",
    "\n",
    "    optimizer.zero_grad()\n",
    "    loss.backward()\n",
    "    optimizer.step() #everytime we step forward"
   ]
  },
  {
   "cell_type": "code",
   "execution_count": 15,
   "metadata": {},
   "outputs": [
    {
     "data": {
      "text/plain": [
       "Text(0.5, 0, 'epoch')"
      ]
     },
     "execution_count": 15,
     "metadata": {},
     "output_type": "execute_result"
    },
    {
     "data": {
      "image/png": "[encoded data removed]",
      "text/plain": [
       "<Figure size 640x480 with 1 Axes>"
      ]
     },
     "metadata": {},
     "output_type": "display_data"
    }
   ],
   "source": [
    "#Graph it out \n",
    "\n",
    "plt.plot(range(epochs), losses)\n",
    "\n",
    "plt.ylabel(\"loss/erros\")\n",
    "plt.xlabel(\"epoch\")"
   ]
  }
 ],
 "metadata": {
  "kernelspec": {
   "display_name": "Python 3",
   "language": "python",
   "name": "python3"
  },
  "language_info": {
   "codemirror_mode": {
    "name": "ipython",
    "version": 3
   },
   "file_extension": ".py",
   "mimetype": "text/x-python",
   "name": "python",
   "nbconvert_exporter": "python",
   "pygments_lexer": "ipython3",
   "version": "3.12.1"
  }
 },
 "nbformat": 4,
 "nbformat_minor": 2
}
