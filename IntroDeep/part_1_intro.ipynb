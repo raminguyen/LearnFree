{
 "cells": [
  {
   "cell_type": "code",
   "execution_count": null,
   "metadata": {},
   "outputs": [
    {
     "data": {
      "text/plain": [
       "tensor(1234)"
      ]
     },
     "execution_count": 3,
     "metadata": {},
     "output_type": "execute_result"
    }
   ],
   "source": [
    "import torch\n",
    "\n"
   ]
  },
  {
   "cell_type": "code",
   "execution_count": 8,
   "metadata": {},
   "outputs": [
    {
     "name": "stdout",
     "output_type": "stream",
     "text": [
      "`integer` is a 0-d Tensor: 1234\n",
      "`decimal` is a 0-d Tensor: 3.140000104904175\n"
     ]
    }
   ],
   "source": [
    "integer = torch.tensor(1234)\n",
    "decimal = torch.tensor (3.14)\n",
    "\n",
    "print(f\"`integer` is a {integer.ndim}-d Tensor: {integer}\")\n",
    "\n",
    "print(f\"`decimal` is a {decimal.ndim}-d Tensor: {decimal}\")\n"
   ]
  },
  {
   "cell_type": "code",
   "execution_count": 11,
   "metadata": {},
   "outputs": [
    {
     "name": "stdout",
     "output_type": "stream",
     "text": [
      "`onedtensor` is a 1-d Tensor with shape: torch.Size([8])\n",
      "`count_to_100` is a 1-d Tensor with shape: torch.Size([100])\n"
     ]
    }
   ],
   "source": [
    "onedtensor = torch.tensor ([0,2,1,2,1,9,9,3])\n",
    "\n",
    "count_to_100 = torch.tensor(range(100))\n",
    "\n",
    "print(f\"`onedtensor` is a {onedtensor.ndim}-d Tensor with shape: {onedtensor.shape}\")\n",
    "\n",
    "print(f\"`count_to_100` is a {count_to_100.ndim}-d Tensor with shape: {count_to_100.shape}\")"
   ]
  },
  {
   "cell_type": "markdown",
   "metadata": {},
   "source": [
    "Defining high-order Tensor"
   ]
  },
  {
   "cell_type": "code",
   "execution_count": 16,
   "metadata": {},
   "outputs": [
    {
     "name": "stdout",
     "output_type": "stream",
     "text": [
      "image is a <built-in method dim of Tensor object at 0x1151cf660>-d Tensor with shape torch.Size([10, 3, 256, 256])\n"
     ]
    }
   ],
   "source": [
    "# Create 2D tensor \n",
    "\n",
    "matrix = torch.tensor([[1, 2, 3], [4, 5, 6]])\n",
    "\n",
    "assert isinstance (matrix, torch.Tensor), \"matrix must be a torch tensor object\"\n",
    "assert matrix.ndim == 2\n",
    "\n",
    "images = torch.zeros(10, 3, 256, 256)\n",
    "\n",
    "assert isinstance (images, torch.Tensor) , \"Matrix must be a torch tensor object\"\n",
    "assert images.ndim == 4, \"image must have 4 dimensions\"\n",
    "assert images.shape == (10, 3, 256, 256), \"images is incorrect shape\"\n",
    "print(f\"image is a {images.dim}-d Tensor with shape {images.shape}\")\n"
   ]
  },
  {
   "cell_type": "code",
   "execution_count": 24,
   "metadata": {},
   "outputs": [
    {
     "name": "stdout",
     "output_type": "stream",
     "text": [
      "`row_vector`: tensor([4, 5, 6])\n",
      "`column_vector`: tensor([3, 6])\n",
      "`scalar`: 1\n"
     ]
    }
   ],
   "source": [
    "row_vector = matrix [1] #extract second row of matrix\n",
    "column_vector = matrix [:, 2] # : select all rows, and select second columns of matric\n",
    "scalar = matrix [0,1] #first row second column \n",
    "\n",
    "print(f\"`row_vector`: {row_vector}\")\n",
    "print(f\"`column_vector`: {column_vector}\")\n",
    "print(f\"`scalar`: {scalar}\")\n",
    "\n"
   ]
  },
  {
   "cell_type": "markdown",
   "metadata": {},
   "source": [
    "### Computations of Tensors "
   ]
  },
  {
   "cell_type": "code",
   "execution_count": 36,
   "metadata": {},
   "outputs": [
    {
     "name": "stdout",
     "output_type": "stream",
     "text": [
      "`c1`:76\n",
      "`c2`:76\n"
     ]
    }
   ],
   "source": [
    "a = torch.tensor(15)\n",
    "b = torch.tensor(61)\n",
    "\n",
    "c1 = torch.add(a,b)\n",
    "c2 = a + b \n",
    "\n",
    "print(f\"`c1`:{c1}\")\n",
    "print(f\"`c2`:{c2}\")"
   ]
  },
  {
   "cell_type": "code",
   "execution_count": 37,
   "metadata": {},
   "outputs": [
    {
     "name": "stdout",
     "output_type": "stream",
     "text": [
      "`e_out`:6.0\n"
     ]
    }
   ],
   "source": [
    "def func (a,b):\n",
    "    c = a + b \n",
    "    d = b - 1\n",
    "    e = c * d\n",
    "    return e\n",
    "\n",
    "a, b = 1.5, 2.5 \n",
    "\n",
    "e_out = func (a,b)\n",
    "\n",
    "print (f\"`e_out`:{e_out}\")"
   ]
  },
  {
   "cell_type": "markdown",
   "metadata": {},
   "source": [
    "### Defining a dense layer"
   ]
  },
  {
   "cell_type": "code",
   "execution_count": 42,
   "metadata": {},
   "outputs": [],
   "source": [
    "class OurDenseLayer(torch.nn.Module):\n",
    "    def __init__ (self, num_inputs, num_outputs):\n",
    "        super(OurDenseLayer, self).__init__()\n",
    "        # Define and initialize parameters: a weight matrix W and bias b \n",
    "        # Note that the parameter initialization is random\n",
    "\n",
    "        self.W = torch.nn.Parameter(torch.randn(num_inputs, num_outputs))\n",
    "        self.bias = torch.nn.Parameter(torch.randn(num_outputs))\n",
    "\n",
    "    def forward(self,x):\n",
    "        #Define the operation for z \n",
    "\n",
    "        z = torch.matmul(x, self.W) + self.bias\n",
    "\n",
    "        #Define the operation for y \n",
    "        y = torch.sigmoid(z)\n",
    "\n",
    "        return y \n"
   ]
  },
  {
   "cell_type": "code",
   "execution_count": 59,
   "metadata": {},
   "outputs": [
    {
     "name": "stdout",
     "output_type": "stream",
     "text": [
      "input shape: torch.Size([1, 3])\n",
      "output shape: torch.Size([1, 2])\n",
      "Weights (W): Parameter containing:\n",
      "tensor([[-0.3274, -0.7212],\n",
      "        [-0.4958, -0.2513],\n",
      "        [ 0.6271, -0.1520]], requires_grad=True)\n",
      "Biases: Parameter containing:\n",
      "tensor([0.4967, 1.0465], requires_grad=True)\n",
      "output result: tensor([[0.7425, 0.3468]], grad_fn=<SigmoidBackward0>)\n"
     ]
    }
   ],
   "source": [
    "num_inputs = 3\n",
    "num_outputs = 2\n",
    "\n",
    "layer = OurDenseLayer(num_inputs, num_outputs)\n",
    "\n",
    "x_input = torch.tensor([[1, 2, 3]], dtype=torch.float32)\n",
    "\n",
    "y = layer(x_input)\n",
    "\n",
    "print (f\"input shape: {x_input.shape}\")\n",
    "print (f\"output shape: {y.shape}\")\n",
    "print(f\"Weights (W): {layer.W}\")\n",
    "print(f\"Biases: {layer.bias}\")\n",
    "print(f\"output result: {y}\")\n"
   ]
  },
  {
   "cell_type": "markdown",
   "metadata": {},
   "source": [
    "#### Linear with sigmoi activation"
   ]
  },
  {
   "cell_type": "code",
   "execution_count": 64,
   "metadata": {},
   "outputs": [
    {
     "name": "stdout",
     "output_type": "stream",
     "text": [
      "input shape: torch.Size([1, 2])\n",
      "output shape: torch.Size([1, 2])\n",
      "output result: tensor([[0.3664, 0.0865]], grad_fn=<SigmoidBackward0>)\n"
     ]
    }
   ],
   "source": [
    "import torch.nn as nn #group layers together to define new artectures\n",
    "\n",
    "class LinearWithSigmoidActivation(nn.Module):\n",
    "    def __init__(self, num_inputs, num_outputs): \n",
    "        super(LinearWithSigmoidActivation, self).__init__()\n",
    "        self.linear = nn.Linear (num_inputs, num_outputs)\n",
    "        self.activation = nn.Sigmoid() #sigmoid activation\n",
    "\n",
    "    def forward (self, inputs):\n",
    "        linear_output = self.linear(inputs)\n",
    "        output = self.activation(linear_output)\n",
    "        return output\n",
    "\n",
    "n_input_nodes = 2 \n",
    "\n",
    "n_output_nodes = 2\n",
    "\n",
    "model = LinearWithSigmoidActivation(n_input_nodes, n_output_nodes)\n",
    "\n",
    "x_input = torch.tensor ([[1,2.]])\n",
    "\n",
    "y = model (x_input)\n",
    "\n",
    "print (f\"input shape: {x_input.shape}\")\n",
    "\n",
    "print (f\"output shape: {y.shape}\")\n",
    "\n",
    "print (f\"output result: {y}\")"
   ]
  },
  {
   "cell_type": "markdown",
   "metadata": {},
   "source": [
    "### Build a nn.sequetial module"
   ]
  },
  {
   "cell_type": "code",
   "execution_count": 76,
   "metadata": {},
   "outputs": [
    {
     "name": "stdout",
     "output_type": "stream",
     "text": [
      "Input shape: torch.Size([1, 2])\n",
      "Output shape: torch.Size([1, 3])\n",
      "Output: tensor([[0.0000, 0.0411, 0.2656]], grad_fn=<ReluBackward0>)\n"
     ]
    }
   ],
   "source": [
    "n_input_nodes = 2\n",
    "\n",
    "n_output_nodes = 3\n",
    "\n",
    "model = nn.Sequential(\n",
    "    nn.Linear(n_input_nodes, n_output_nodes),\n",
    "    nn.ReLU()\n",
    "\n",
    ")\n",
    "\n",
    "x_input = torch.tensor([[1,2.]])\n",
    "\n",
    "y = model(x_input)\n",
    "\n",
    "print (f\"Input shape: {x_input.shape}\")\n",
    "\n",
    "print (f\"Output shape: {y.shape}\")\n",
    "\n",
    "print (f\"Output: {y}\")\n"
   ]
  },
  {
   "cell_type": "code",
   "execution_count": 70,
   "metadata": {},
   "outputs": [],
   "source": [
    "import torch \n",
    "\n",
    "import torch.nn as nn \n",
    "\n",
    "class LinearButSometimesIdentity (nn.Module):\n",
    "    def __init__ (self, num_inputs, num_outputs):\n",
    "        super(LinearButSometimesIdentity, self).__init__()\n",
    "        self.linear = nn.Linear (num_inputs, num_outputs)\n",
    "        \n",
    "    def forward (self, inputs, isidentity= False):\n",
    "        if isidentity:\n",
    "            return inputs \n",
    "        return self.linear(inputs)"
   ]
  },
  {
   "cell_type": "code",
   "execution_count": 71,
   "metadata": {},
   "outputs": [
    {
     "name": "stdout",
     "output_type": "stream",
     "text": [
      "output is changed: tensor([[-1.7403,  1.3679]], grad_fn=<AddmmBackward0>)\n",
      "output is unchanged: tensor([[1., 2., 3.]])\n"
     ]
    }
   ],
   "source": [
    "num_inputs = 3\n",
    "\n",
    "num_outputs = 2\n",
    "\n",
    "model = LinearButSometimesIdentity(num_inputs, num_outputs)\n",
    "\n",
    "x = torch.tensor([[1.0, 2.0, 3.0]],dtype=torch.float32)\n",
    "\n",
    "output_normal = model(x, isidentity=False)\n",
    "print(f\"output is changed: {output_normal}\")\n",
    "\n",
    "output_identity = model(x, isidentity = True)\n",
    "print(f\"output is unchanged: {output_identity}\")\n",
    "\n",
    "#addmm: add matrix-matrix multiplication"
   ]
  },
  {
   "cell_type": "markdown",
   "metadata": {},
   "source": [
    "### Continue to study here"
   ]
  }
 ],
 "metadata": {
  "kernelspec": {
   "display_name": "Python 3",
   "language": "python",
   "name": "python3"
  },
  "language_info": {
   "codemirror_mode": {
    "name": "ipython",
    "version": 3
   },
   "file_extension": ".py",
   "mimetype": "text/x-python",
   "name": "python",
   "nbconvert_exporter": "python",
   "pygments_lexer": "ipython3",
   "version": "3.12.1"
  }
 },
 "nbformat": 4,
 "nbformat_minor": 2
}
